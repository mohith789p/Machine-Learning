{
  "nbformat": 4,
  "nbformat_minor": 0,
  "metadata": {
    "colab": {
      "provenance": [],
      "authorship_tag": "ABX9TyO/J2JgASUgoLH3rBd2RkTt",
      "include_colab_link": true
    },
    "kernelspec": {
      "name": "python3",
      "display_name": "Python 3"
    },
    "language_info": {
      "name": "python"
    }
  },
  "cells": [
    {
      "cell_type": "markdown",
      "metadata": {
        "id": "view-in-github",
        "colab_type": "text"
      },
      "source": [
        "<a href=\"https://colab.research.google.com/github/mohith789p/Machine-Learning/blob/main/assignment1.ipynb\" target=\"_parent\"><img src=\"https://colab.research.google.com/assets/colab-badge.svg\" alt=\"Open In Colab\"/></a>"
      ]
    },
    {
      "cell_type": "markdown",
      "source": [
        "1. Perform arithmetic operations on NumPy arrays."
      ],
      "metadata": {
        "id": "MTfOqwcf3wr3"
      }
    },
    {
      "cell_type": "code",
      "source": [
        "# importing numpy module\n",
        "import numpy as np\n",
        "\n",
        "# creating array using numpy\n",
        "a = np.array([1,2,3]) # array 01\n",
        "\n",
        "# opertions on numpy array\n",
        "print(\"Addition:\", a+5) # adding 5 to array\n",
        "print(\"Subration:\", 5-a) # subtracting array from 5\n",
        "print(\"Multiplication:\", a*5) # multiplying 5 with array\n",
        "print(\"Division:\", 5/a) # dividing 5 with array"
      ],
      "metadata": {
        "colab": {
          "base_uri": "https://localhost:8080/"
        },
        "id": "XGXb6e5b3LoD",
        "outputId": "88fedcec-9c11-426a-d2d0-e9dec970c62b"
      },
      "execution_count": null,
      "outputs": [
        {
          "output_type": "stream",
          "name": "stdout",
          "text": [
            "Addition: [6 7 8]\n",
            "Subration: [4 3 2]\n",
            "Multiplication: [ 5 10 15]\n",
            "Division: [5.         2.5        1.66666667]\n"
          ]
        }
      ]
    },
    {
      "cell_type": "markdown",
      "source": [
        "2. Write a script to compute the mean and standard deviation of a NumPy array."
      ],
      "metadata": {
        "id": "ZYUKPMc84GfL"
      }
    },
    {
      "cell_type": "code",
      "source": [
        "# mean\n",
        "mean = np.mean(a)\n",
        "print(mean)\n",
        "\n",
        "# standard deviation\n",
        "sd = np.std(a)\n",
        "print(sd)"
      ],
      "metadata": {
        "colab": {
          "base_uri": "https://localhost:8080/"
        },
        "id": "Df3xEiIi4rm1",
        "outputId": "93c2b717-bdac-4218-b3c0-0b7349154edd"
      },
      "execution_count": null,
      "outputs": [
        {
          "output_type": "stream",
          "name": "stdout",
          "text": [
            "2.0\n",
            "0.816496580927726\n"
          ]
        }
      ]
    },
    {
      "cell_type": "markdown",
      "source": [
        "3. Create a NumPy array of integers from 10 to 50 with a step size of 5."
      ],
      "metadata": {
        "id": "cE9WwoXn5VLG"
      }
    },
    {
      "cell_type": "code",
      "source": [
        "# creating array\n",
        "arr = np.arange(10,50,5)\n",
        "print(arr)"
      ],
      "metadata": {
        "colab": {
          "base_uri": "https://localhost:8080/"
        },
        "id": "aH1sKA6K5Slg",
        "outputId": "3c5e8133-fa42-4ee9-a05d-93361cf12c56"
      },
      "execution_count": null,
      "outputs": [
        {
          "output_type": "stream",
          "name": "stdout",
          "text": [
            "[10 15 20 25 30 35 40 45]\n"
          ]
        }
      ]
    },
    {
      "cell_type": "markdown",
      "source": [
        "4. Reshape the array into a 2x4 matrix."
      ],
      "metadata": {
        "id": "d0RX793R6OSA"
      }
    },
    {
      "cell_type": "code",
      "source": [
        "rearr = np.reshape(arr,(2,4))\n",
        "print(rearr)"
      ],
      "metadata": {
        "colab": {
          "base_uri": "https://localhost:8080/"
        },
        "id": "kanJFW-66N_x",
        "outputId": "373a3ef6-48b9-45ca-9853-41488115e592"
      },
      "execution_count": null,
      "outputs": [
        {
          "output_type": "stream",
          "name": "stdout",
          "text": [
            "[[10 15 20 25]\n",
            " [30 35 40 45]]\n"
          ]
        }
      ]
    },
    {
      "cell_type": "markdown",
      "source": [
        "5. Given the array `arr = np.array([[1, 2, 3], [4, 5, 6], [7, 8, 9]])`:  \n",
        "• Extract the sub-matrix containing the last two rows and first two columns.  \n",
        "• Replace all elements greater than 4 with 0."
      ],
      "metadata": {
        "id": "dxnJBkWw67qi"
      }
    },
    {
      "cell_type": "code",
      "source": [
        "#  creating 2D array\n",
        "arr = np.array([[1, 2, 3], [4, 5, 6], [7, 8, 9]])\n",
        "\n",
        "# extracting last two rows and first two columns\n",
        "subArr = arr[1:,:2]\n",
        "print(subArr)\n",
        "\n",
        "# replacing all elements greater than 4 with 0\n",
        "arr[arr>4] = 0\n",
        "print(arr)"
      ],
      "metadata": {
        "colab": {
          "base_uri": "https://localhost:8080/"
        },
        "id": "_HMSff8m67Uu",
        "outputId": "d4014e1f-56e8-4178-a07f-7e412a9ac855"
      },
      "execution_count": null,
      "outputs": [
        {
          "output_type": "stream",
          "name": "stdout",
          "text": [
            "[[4 5]\n",
            " [7 8]]\n",
            "[[1 2 3]\n",
            " [4 0 0]\n",
            " [0 0 0]]\n"
          ]
        }
      ]
    },
    {
      "cell_type": "markdown",
      "source": [
        "6. Create two 1D arrays:  \n",
        "• `a = np.array([1, 2, 3]) `  \n",
        "• `b = np.array([4, 5, 6]) `  \n",
        "• Perform element-wise addition, multiplication, and division."
      ],
      "metadata": {
        "id": "v8sVlO77nAK4"
      }
    },
    {
      "cell_type": "code",
      "source": [
        "# creating array using numpy\n",
        "a = np.array([1,2,3]) # array 01\n",
        "b = np.array([4,5,6]) # array 02\n",
        "\n",
        "# opertions on numpy array\n",
        "print(\"Addition:\", a+b) # addition of two numpy arrays\n",
        "print(\"Subration:\", b-a) # subtraction of two numpy arrays\n",
        "print(\"Multiplication:\", a*b) # multiplication of two numpy arrays\n",
        "print(\"Division:\", b/a) # division of two numpy arrays"
      ],
      "metadata": {
        "colab": {
          "base_uri": "https://localhost:8080/"
        },
        "id": "CAWUxKBsnJTD",
        "outputId": "d79fc4c5-64d1-4d6b-8519-bc5c4c44618b"
      },
      "execution_count": null,
      "outputs": [
        {
          "output_type": "stream",
          "name": "stdout",
          "text": [
            "Addition: [5 7 9]\n",
            "Subration: [3 3 3]\n",
            "Multiplication: [ 4 10 18]\n",
            "Division: [4.  2.5 2. ]\n"
          ]
        }
      ]
    },
    {
      "cell_type": "markdown",
      "source": [
        "7.  Create a random NumPy array of size (4, 4). Compute:  \n",
        "• Mean of each column.  \n",
        "• Maximum value of the entire array.  \n",
        "• Sum of all elements."
      ],
      "metadata": {
        "id": "2MC8exkh8smW"
      }
    },
    {
      "cell_type": "code",
      "source": [
        "# creating random integer array\n",
        "ramArr = np.random.rand(4,4)\n",
        "print(ramArr)\n",
        "\n",
        "# mean of each column\n",
        "print(np.mean(ramArr, axis = 0))\n",
        "\n",
        "# maximum value\n",
        "print(np.max(ramArr))\n",
        "\n",
        "# sum of all elements\n",
        "print(np.sum(ramArr))"
      ],
      "metadata": {
        "colab": {
          "base_uri": "https://localhost:8080/"
        },
        "id": "0qqPQ-LE8tDs",
        "outputId": "3d2cfcd3-9748-44c2-b5a9-706d273150d5"
      },
      "execution_count": null,
      "outputs": [
        {
          "output_type": "stream",
          "name": "stdout",
          "text": [
            "[[0.75731614 0.6363248  0.11391695 0.93357347]\n",
            " [0.39700005 0.5699474  0.57738231 0.2809202 ]\n",
            " [0.6543549  0.67387727 0.7008934  0.11799183]\n",
            " [0.40659773 0.43532319 0.24818284 0.33751711]]\n",
            "[0.55381721 0.57886816 0.41009388 0.41750066]\n",
            "0.9335734744431258\n",
            "7.841119610392962\n"
          ]
        }
      ]
    },
    {
      "cell_type": "markdown",
      "source": [
        "8. Given the array `arr = np.array([1, 2, 3, 4])`, add 10 to each element and multiply the result by 2."
      ],
      "metadata": {
        "id": "p3aO1fnk-Rza"
      }
    },
    {
      "cell_type": "code",
      "source": [
        "# creating array\n",
        "arr = np.array([1,2,3,4])\n",
        "\n",
        "# adding 10 to each elements\n",
        "result = arr+10\n",
        "\n",
        "# multiplying 2 to the result\n",
        "result = result*2\n",
        "print(result)"
      ],
      "metadata": {
        "colab": {
          "base_uri": "https://localhost:8080/"
        },
        "id": "jtlox5Re-Qny",
        "outputId": "7b3cd26c-1eb0-47c2-e84a-41e6d0d7834b"
      },
      "execution_count": null,
      "outputs": [
        {
          "output_type": "stream",
          "name": "stdout",
          "text": [
            "[22 24 26 28]\n"
          ]
        }
      ]
    },
    {
      "cell_type": "markdown",
      "source": [
        "9. Perform advanced slicing and indexing on a 3D array.\n",
        "Create a 3D NumPy array `arr of shape (3, 4, 5)` with random integers ranging from 1 to 100.  \n",
        "Perform the following:  \n",
        "• Extract the second \"layer\" (i.e., the second 2D array) in the first dimension.  \n",
        "• Extract the first two rows and the last three columns from each \"layer.\"  \n",
        "• Replace all elements divisible by 3 with -1.  "
      ],
      "metadata": {
        "id": "YV8VIOWG-Q3l"
      }
    },
    {
      "cell_type": "code",
      "source": [
        "# Create a 3D NumPy array of shape (3, 4, 5) with random integers from 1 to 100\n",
        "arr = np.random.randint(1, 101, size=(3, 4, 5))\n",
        "print(arr)\n",
        "\n",
        "# Extracting the second layer\n",
        "layer = arr[1]\n",
        "print(layer)\n",
        "\n",
        "# Extracting the first two rows and the last three columns\n",
        "subArr = arr[:, :2, -3:]\n",
        "print(subArr)\n",
        "\n",
        "# Replace all elements divisible by 3 with -1\n",
        "result = np.where(arr % 3 == 0, -1, arr)\n",
        "print(result)"
      ],
      "metadata": {
        "colab": {
          "base_uri": "https://localhost:8080/"
        },
        "id": "5uzbxQeA_Wp0",
        "outputId": "231a2b0d-2733-4afb-eaa9-d2bee8d26e50"
      },
      "execution_count": null,
      "outputs": [
        {
          "output_type": "stream",
          "name": "stdout",
          "text": [
            "[[[ 7 26 17  3 75]\n",
            "  [81 37 88 66 92]\n",
            "  [62 69 81 86 11]\n",
            "  [41 77  4 57 51]]\n",
            "\n",
            " [[65 65 82 41 75]\n",
            "  [14 87 19 12  5]\n",
            "  [27 62  2 30 97]\n",
            "  [99 96 51 52 81]]\n",
            "\n",
            " [[23 17 60 66 70]\n",
            "  [29 38 31  6 47]\n",
            "  [35 75 69 21 80]\n",
            "  [46 60 40 67 55]]]\n",
            "[[65 65 82 41 75]\n",
            " [14 87 19 12  5]\n",
            " [27 62  2 30 97]\n",
            " [99 96 51 52 81]]\n",
            "[[[17  3 75]\n",
            "  [88 66 92]]\n",
            "\n",
            " [[82 41 75]\n",
            "  [19 12  5]]\n",
            "\n",
            " [[60 66 70]\n",
            "  [31  6 47]]]\n",
            "[[[ 7 26 17 -1 -1]\n",
            "  [-1 37 88 -1 92]\n",
            "  [62 -1 -1 86 11]\n",
            "  [41 77  4 -1 -1]]\n",
            "\n",
            " [[65 65 82 41 -1]\n",
            "  [14 -1 19 -1  5]\n",
            "  [-1 62  2 -1 97]\n",
            "  [-1 -1 -1 52 -1]]\n",
            "\n",
            " [[23 17 -1 -1 70]\n",
            "  [29 38 31 -1 47]\n",
            "  [35 -1 -1 -1 80]\n",
            "  [46 -1 40 67 55]]]\n"
          ]
        }
      ]
    },
    {
      "cell_type": "markdown",
      "source": [
        "10. Work with broadcasting and advanced operations in NumPy. Create a NumPy array arr of shape (3, 3) with random integers between 1 and 20. Perform the following:   \n",
        "• Subtract the mean of each row from its respective elements (row-wise normalization).  \n",
        "• Create a new array by squaring all the elements in arr.  \n",
        "• Find the indices of the top 3 maximum values in the entire array.  "
      ],
      "metadata": {
        "id": "22huyios_yNu"
      }
    },
    {
      "cell_type": "code",
      "source": [
        "#  Creating a NumPy array arr of shape (3, 3) with random integers between 1 and 20.\n",
        "arr = np.random.randint(1,20,(3,3))\n",
        "print(arr)\n",
        "\n",
        "# squaring the array\n",
        "newArr = np.square(arr)\n",
        "print(newArr)\n",
        "\n",
        "# subtracting the mean of each row from its respective elements (row-wise normalization)\n",
        "arr = arr - arr.mean(axis=1, keepdims=True)\n",
        "print(arr)\n",
        "\n",
        "# top 3 maximum values\n",
        "sortArr = np.sort(arr.flatten())\n",
        "print(sortArr[-3:])"
      ],
      "metadata": {
        "colab": {
          "base_uri": "https://localhost:8080/"
        },
        "id": "Tbj6zB4__ykn",
        "outputId": "cfe084dd-4b2d-450b-96e5-1391f35e1abd"
      },
      "execution_count": null,
      "outputs": [
        {
          "output_type": "stream",
          "name": "stdout",
          "text": [
            "[[14 16 14]\n",
            " [18  1 13]\n",
            " [13 15 12]]\n",
            "[[196 256 196]\n",
            " [324   1 169]\n",
            " [169 225 144]]\n",
            "[[-0.66666667  1.33333333 -0.66666667]\n",
            " [ 7.33333333 -9.66666667  2.33333333]\n",
            " [-0.33333333  1.66666667 -1.33333333]]\n",
            "[1.66666667 2.33333333 7.33333333]\n"
          ]
        }
      ]
    }
  ]
}